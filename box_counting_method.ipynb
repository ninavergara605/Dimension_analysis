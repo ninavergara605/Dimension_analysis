{
  "nbformat": 4,
  "nbformat_minor": 0,
  "metadata": {
    "colab": {
      "name": "Untitled0.ipynb",
      "provenance": []
    },
    "kernelspec": {
      "name": "python3",
      "display_name": "Python 3"
    },
    "language_info": {
      "name": "python"
    }
  },
  "cells": [
    {
      "cell_type": "code",
      "metadata": {
        "id": "YIWl7ssqLFxI"
      },
      "source": [
        "import numpy as np\n",
        "import matplotlib.pyplot as plt\n",
        "import itertools\n",
        "import scipy\n",
        "from sklearn.linear_model import LinearRegression\n",
        "%matplotlib inline"
      ],
      "execution_count": 1,
      "outputs": []
    },
    {
      "cell_type": "markdown",
      "metadata": {
        "id": "rhZKy9N3r97u"
      },
      "source": [
        "### Initializing Test Path"
      ]
    },
    {
      "cell_type": "code",
      "metadata": {
        "id": "DuvBuQAMLNM7",
        "colab": {
          "base_uri": "https://localhost:8080/"
        },
        "outputId": "9a4d4323-37bb-44e9-f605-bf360dfa8053"
      },
      "source": [
        "# Initialize test points for analysis\n",
        "nodes = np.array([\n",
        "        (0,1)\n",
        "        ,(2,4)\n",
        "        ,(6,10)\n",
        "        ,(15,6)\n",
        "])\n",
        "# Interpolates X and Y values for a node and the following node to yeild one continuous line \n",
        "lines_x = [np.linspace(x0,x1) for (x0,x1) in zip(nodes[:-1,0], nodes[1:,0])]\n",
        "lines_y = [np.linspace(y0,y1) for (y0,y1) in zip(nodes[:-1,1], nodes[1:,1])]\n",
        "\n",
        "# Concatenates the X and Y lines and pairs them into points\n",
        "path =  np.array(list(zip(np.array(lines_x).flatten(), np.array(lines_y).flatten())))\n",
        "path[:5]"
      ],
      "execution_count": 9,
      "outputs": [
        {
          "output_type": "execute_result",
          "data": {
            "text/plain": [
              "array([[0.        , 1.        ],\n",
              "       [0.04081633, 1.06122449],\n",
              "       [0.08163265, 1.12244898],\n",
              "       [0.12244898, 1.18367347],\n",
              "       [0.16326531, 1.24489796]])"
            ]
          },
          "metadata": {},
          "execution_count": 9
        }
      ]
    },
    {
      "cell_type": "markdown",
      "metadata": {
        "id": "ZI1MJXPVr8Je"
      },
      "source": [
        "### Creating a Grid\n",
        "\n",
        "To determine the maximum x and y axis values of the grid, one is added to the largest x and y point value.\n",
        "\n",
        "On this example, the grid is split into 5 segments on both the x and y axis. np.linspace is used to mark the segment intercept points for each axis of the grid"
      ]
    },
    {
      "cell_type": "code",
      "metadata": {
        "colab": {
          "base_uri": "https://localhost:8080/"
        },
        "id": "M1Y6UlaLL7Rs",
        "outputId": "6188ed96-8ebc-440a-fb3f-5af5590e56d2"
      },
      "source": [
        "grid_dim = [max(nodes[:,0])+1, max(nodes[:,1])+1]\n",
        "nboxes = 5\n",
        "grid_x, grid_y = np.linspace(0, grid_dim[0],num=nboxes+1), np.linspace(0, grid_dim[1],num=nboxes+1)\n",
        "print(grid_x, grid_y)"
      ],
      "execution_count": 3,
      "outputs": [
        {
          "output_type": "stream",
          "name": "stdout",
          "text": [
            "[ 0.   3.2  6.4  9.6 12.8 16. ] [ 0.   2.2  4.4  6.6  8.8 11. ]\n"
          ]
        }
      ]
    },
    {
      "cell_type": "markdown",
      "metadata": {
        "id": "baSr5ZEdvDuG"
      },
      "source": [
        "### Visualizing the Path and Grid"
      ]
    },
    {
      "cell_type": "code",
      "metadata": {
        "colab": {
          "base_uri": "https://localhost:8080/",
          "height": 269
        },
        "id": "l56uMx3sL5Ry",
        "outputId": "6ac54e3a-7334-4906-b75f-481d0038270c"
      },
      "source": [
        "# Initialize the plot\n",
        "fig, ax = plt.subplots()\n",
        "\n",
        "# Plots each point in the path\n",
        "ax.plot(path[:,0], path[:,1])\n",
        "\n",
        "# Use the grid segments for the X and Y axis to determine the major axis ticks\n",
        "ax.set_yticks(grid_y)\n",
        "ax.set_xticks(grid_x)\n",
        "ax.grid()"
      ],
      "execution_count": 8,
      "outputs": [
        {
          "output_type": "display_data",
          "data": {
            "image/png": "[encoded data removed]",
            "text/plain": [
              "<Figure size 432x288 with 1 Axes>"
            ]
          },
          "metadata": {
            "needs_background": "light"
          }
        }
      ]
    },
    {
      "cell_type": "markdown",
      "metadata": {
        "id": "RJQACLIxwSkX"
      },
      "source": [
        "### Detecting if a Point Lies Within a Grid Box\n",
        "\n"
      ]
    },
    {
      "cell_type": "code",
      "metadata": {
        "colab": {
          "base_uri": "https://localhost:8080/"
        },
        "id": "2xiqpkoGW6ie",
        "outputId": "16c84357-73c9-4995-9bd7-d5171cf54352"
      },
      "source": [
        "\n",
        "idx_range = list(range(1, nboxes+1))\n",
        "idxs = list(itertools.product(idx_range,idx_range))\n",
        "\n",
        "nbox_intercepted = 0\n",
        "for xi,yi in idxs:\n",
        "  x0,x1 = grid_x[xi-1], grid_x[xi]\n",
        "  y0,y1 = grid_y[yi-1], grid_y[yi]\n",
        "\n",
        "  inside_box = path[(path[:,0]>x0) & (path[:,0]<x1) & (path[:,1]>y0) & (path[:,1]<y1)]\n",
        "  if len(inside_box) > 0:\n",
        "      nbox_intercepted += 1\n",
        "nbox_intercepted"
      ],
      "execution_count": null,
      "outputs": [
        {
          "output_type": "execute_result",
          "data": {
            "text/plain": [
              "11"
            ]
          },
          "metadata": {},
          "execution_count": 6
        }
      ]
    },
    {
      "cell_type": "code",
      "metadata": {
        "id": "r4LfMk1yblgm"
      },
      "source": [
        "def count_intercepts(nboxes, path, grid_dim):\n",
        "  grid_x, grid_y = np.linspace(0, grid_dim[0],num=nboxes+1), np.linspace(0, grid_dim[1],num=nboxes+1)\n",
        "\n",
        "  idx_range = list(range(1, nboxes+1))\n",
        "  idxs = list(itertools.product(idx_range,idx_range))\n",
        "\n",
        "  nbox_intercepted = 0\n",
        "  for xi,yi in idxs:\n",
        "    x0,x1 = grid_x[xi-1], grid_x[xi]\n",
        "    y0,y1 = grid_y[yi-1], grid_y[yi]\n",
        "\n",
        "    inside_box = path[(path[:,0]>x0) & (path[:,0]<x1) & (path[:,1]>y0) & (path[:,1]<y1)]\n",
        "    if len(inside_box) > 0:\n",
        "        nbox_intercepted += 1\n",
        "  return nbox_intercepted"
      ],
      "execution_count": null,
      "outputs": []
    },
    {
      "cell_type": "code",
      "metadata": {
        "id": "VE0VhDMDjTKY"
      },
      "source": [
        "magnification = [2**n for n in range(1,8)]\n",
        "scale_range = 20\n",
        "\n",
        "N = [count_intercepts(s, path, grid_dim) for s in magnification]\n",
        "\n",
        "x = [np.log(1/s) for s in magnification]\n",
        "y = [np.log(n) for n in N]"
      ],
      "execution_count": null,
      "outputs": []
    },
    {
      "cell_type": "code",
      "metadata": {
        "colab": {
          "base_uri": "https://localhost:8080/",
          "height": 295
        },
        "id": "VSgEpycYj6MO",
        "outputId": "02b509c4-d9e1-402c-9de3-140f35a3230f"
      },
      "source": [
        "X = np.array(x).reshape(-1, 1)\n",
        "lr = LinearRegression(fit_intercept=True)\n",
        "lr.fit(X,y)\n",
        "lr.coef_\n",
        "\n",
        "y_pred = lr.predict(X)\n",
        "\n",
        "fig, ax = plt.subplots()\n",
        "ax.plot(x,y, label='Box Counts')\n",
        "ax.invert_xaxis()\n",
        "ax.set_xlabel('log(s)')\n",
        "ax.set_ylabel('log(N(s))');\n",
        "ax.plot(X,y_pred,c='r', label='Regression Line')\n",
        "dimension = lr.coef_\n",
        "ax.set_title(f'Dimension: {dimension[0]}');\n",
        "ax.legend();"
      ],
      "execution_count": null,
      "outputs": [
        {
          "output_type": "display_data",
          "data": {
            "image/png": "[encoded data removed]",
            "text/plain": [
              "<Figure size 432x288 with 1 Axes>"
            ]
          },
          "metadata": {
            "needs_background": "light"
          }
        }
      ]
    }
  ]
}