{
  "nbformat": 4,
  "nbformat_minor": 0,
  "metadata": {
    "colab": {
      "name": "box_counting_method.ipynb",
      "provenance": [],
      "collapsed_sections": []
    },
    "kernelspec": {
      "name": "python3",
      "display_name": "Python 3"
    },
    "language_info": {
      "name": "python"
    }
  },
  "cells": [
    {
      "cell_type": "code",
      "metadata": {
        "id": "YIWl7ssqLFxI",
        "colab": {
          "base_uri": "https://localhost:8080/"
        },
        "outputId": "92e1c614-c587-4cfe-c704-403821dc8757"
      },
      "source": [
        "import numpy as np\n",
        "import itertools\n",
        "import scipy\n",
        "import pandas as pd\n",
        "from sklearn.linear_model import LinearRegression\n",
        "\n",
        "import matplotlib.pyplot as plt\n",
        "%matplotlib inline\n",
        "\n",
        "from google.colab import drive\n",
        "drive.mount('/content/gdrive')"
      ],
      "execution_count": null,
      "outputs": [
        {
          "output_type": "stream",
          "name": "stdout",
          "text": [
            "Mounted at /content/gdrive\n"
          ]
        }
      ]
    },
    {
      "cell_type": "markdown",
      "metadata": {
        "id": "rhZKy9N3r97u"
      },
      "source": [
        "### Initializing Test Data"
      ]
    },
    {
      "cell_type": "code",
      "metadata": {
        "id": "TsiXp1CIjscx"
      },
      "source": [
        "# The Koch curve has a known theoretical dimension of ~1.261\n",
        "koch_curve_url = 'https://raw.githubusercontent.com/ninavergara605/dimension_analysis/master/koch_curve.csv'\n",
        "koch_curve = pd.read_csv(koch_curve_url, nrows=160).squeeze().str.split(\" \", expand=True).apply(pd.to_numeric, errors='ignore').values\n",
        "\n",
        "# These curves simulate VR paths\n",
        "random_walk_rough = pd.read_csv('/content/gdrive/MyDrive/dimension_analysis/rough_random_walk.csv').values\n",
        "random_walk_smooth = pd.read_csv('/content/gdrive/MyDrive/dimension_analysis/smooth_random_walk.csv').values\n",
        "\n",
        "# Shift the y-values to ensure they're greater than 0\n",
        "random_walk_rough[:,1] = random_walk_rough[:,1] + -min(random_walk_rough[:,1])\n",
        "random_walk_smooth[:,1] = random_walk_smooth[:,1] + -min(random_walk_smooth[:,1])"
      ],
      "execution_count": null,
      "outputs": []
    },
    {
      "cell_type": "markdown",
      "metadata": {
        "id": "ob5Gv4qS8B5x"
      },
      "source": [
        "## Implementation Walkthrough"
      ]
    },
    {
      "cell_type": "markdown",
      "metadata": {
        "id": "ZI1MJXPVr8Je"
      },
      "source": [
        "### Creating the Initial Grid\n",
        "\n",
        " Each axis will share the same grid intercept points to ensure the boxes are square\n",
        "\n"
      ]
    },
    {
      "cell_type": "code",
      "metadata": {
        "colab": {
          "base_uri": "https://localhost:8080/"
        },
        "id": "M1Y6UlaLL7Rs",
        "outputId": "ee23f65b-488b-4305-c2a9-118e8cc03c14"
      },
      "source": [
        "# Find the largest x or y point value to determine the maximum dimension of the grid\n",
        "max_dim = np.max(koch_curve)\n",
        "\n",
        "# In this example, the grid is split into 5 segments on both the x and y axis.\n",
        "nboxes = 4\n",
        "n_divides = int(np.sqrt(nboxes))\n",
        "\n",
        "# np.linspace is used to mark the segment intercept points for each axis of the grid\n",
        "grid_intercepts = np.linspace(0, max_dim ,num=n_divides+1)\n",
        "grid_intercepts"
      ],
      "execution_count": null,
      "outputs": [
        {
          "output_type": "execute_result",
          "data": {
            "text/plain": [
              "array([0.       , 2.4691358, 4.9382716])"
            ]
          },
          "metadata": {},
          "execution_count": 13
        }
      ]
    },
    {
      "cell_type": "markdown",
      "source": [
        " ### Dividing the Grid\n",
        "\n",
        " For every iteration, each segment of the grid is divided in half to create new\n",
        " intercepts"
      ],
      "metadata": {
        "id": "4q2SBtwTNi5P"
      }
    },
    {
      "cell_type": "code",
      "metadata": {
        "id": "kSgax0bxQQMa",
        "colab": {
          "base_uri": "https://localhost:8080/"
        },
        "outputId": "11d23deb-0000-4b46-af52-be49a3c33393"
      },
      "source": [
        "def divide_intercepts(intercepts):\n",
        "  divided = []\n",
        "  for i in range(len(intercepts)-1):\n",
        "    # Grabs a pair of intercept points based on index\n",
        "    lower = intercepts[i]\n",
        "    upper = intercepts[i+1]\n",
        "    # Calculate the midpoint of the two values\n",
        "    middle = lower + (upper - lower)/2\n",
        "    \n",
        "    # To avoid duplication, only add the lower value if it isn't present in the divided array  \n",
        "    if lower in divided:\n",
        "      divided.extend([middle, upper])\n",
        "    else:\n",
        "      divided.extend([lower, middle, upper])\n",
        "  return divided\n",
        "  \n",
        "divided_intercepts = divide_intercepts(grid_intercepts)\n",
        "divided_intercepts"
      ],
      "execution_count": null,
      "outputs": [
        {
          "output_type": "execute_result",
          "data": {
            "text/plain": [
              "[0.0,\n",
              " 1.2345679012345687,\n",
              " 2.4691358024691374,\n",
              " 3.703703703703706,\n",
              " 4.938271604938275]"
            ]
          },
          "metadata": {},
          "execution_count": 14
        }
      ]
    },
    {
      "cell_type": "markdown",
      "metadata": {
        "id": "baSr5ZEdvDuG"
      },
      "source": [
        "### Visualizing the Path and Grid"
      ]
    },
    {
      "cell_type": "code",
      "metadata": {
        "colab": {
          "base_uri": "https://localhost:8080/",
          "height": 269
        },
        "id": "l56uMx3sL5Ry",
        "outputId": "15c12795-8f7f-4c29-94e4-863a9be78587"
      },
      "source": [
        "# Initialize the plot\n",
        "fig, (ax1,ax2) = plt.subplots(ncols=2, figsize=(8,4))\n",
        "\n",
        "def plot_path(ax, data, ticks):\n",
        "  # Plots each point in the path\n",
        "  ax.plot(data[:,0], data[:,1])\n",
        "  # Use the grid segments for the X and Y axis to determine the major axis ticks\n",
        "  ax.set_yticks(ticks)\n",
        "  ax.set_xticks(ticks)\n",
        "  ax.grid()\n",
        "  \n",
        "plot_path(ax1, koch_curve, grid_intercepts)\n",
        "plot_path(ax2, koch_curve, divided_intercepts)"
      ],
      "execution_count": null,
      "outputs": [
        {
          "output_type": "display_data",
          "data": {
            "image/png": "[encoded data removed]",
            "text/plain": [
              "<Figure size 576x288 with 2 Axes>"
            ]
          },
          "metadata": {
            "needs_background": "light"
          }
        }
      ]
    },
    {
      "cell_type": "markdown",
      "metadata": {
        "id": "RJQACLIxwSkX"
      },
      "source": [
        "### Detecting if a Point Lies Within a Grid Box\n",
        "\n",
        "1. Create a range to index the grid segments\n",
        "2. Create a cartesian product of the grid segment ranges to determine box locations\n",
        "3. Grab X and Y box boundaries for each index by retrieving the corresponding grid intercepts along with the preceding intercept\n",
        "4. Determine if any points fall between these boundaries. If so, increment the counter"
      ]
    },
    {
      "cell_type": "code",
      "metadata": {
        "colab": {
          "base_uri": "https://localhost:8080/"
        },
        "id": "2xiqpkoGW6ie",
        "outputId": "1280884a-e1dc-40d9-8690-ce589aaf6780"
      },
      "source": [
        "# Create a range of indexes for the grid segments\n",
        "idx_range = list(range(1, n_divides+1))\n",
        "\n",
        "# Implements a Cartesian Product of the index range against itself\n",
        "idxs = list(itertools.product(idx_range,idx_range))\n",
        "\n",
        "nbox_intercepted = 0\n",
        "for xi,yi in idxs:\n",
        "  # Uses the grid indexes to grab box boundaries\n",
        "  x0,x1 = grid_intercepts[xi-1], grid_intercepts[xi]\n",
        "  y0,y1 = grid_intercepts[yi-1], grid_intercepts[yi]\n",
        "\n",
        "  # Filter the path by returning points that fall within both the X and Y boundaries\n",
        "  inside_box = koch_curve[(koch_curve[:,0] > x0) & (koch_curve[:,0]  <x1) & (koch_curve[:,1] > y0) & (koch_curve[:,1] < y1)]\n",
        "  if len(inside_box) > 0:\n",
        "      # If there are points inside the box boundaries, increment the counter\n",
        "      nbox_intercepted += 1\n",
        "nbox_intercepted"
      ],
      "execution_count": null,
      "outputs": [
        {
          "output_type": "execute_result",
          "data": {
            "text/plain": [
              "2"
            ]
          },
          "metadata": {},
          "execution_count": 16
        }
      ]
    },
    {
      "cell_type": "markdown",
      "metadata": {
        "id": "ZVgDzqxD76z2"
      },
      "source": [
        "## Refactoring into a Function\n",
        "\n",
        "In order to calculate the fractal dimension of the path, we need vary the number of boxes that a grid contains and return the number of intercepted boxes.\n",
        "\n",
        "The function also returns the mean of the number of points found within each box, which will be used to flag when the number of boxes approach the resolution of the data"
      ]
    },
    {
      "cell_type": "code",
      "metadata": {
        "id": "r4LfMk1yblgm"
      },
      "source": [
        "def count_box_interceptions(_path, grid):\n",
        "  # Create a range of indexes for the grid segments\n",
        "  idx_range = list(range(1, len(grid)))\n",
        "\n",
        "  # Implements a Cartesian Product of the index range against itself\n",
        "  idxs = list(itertools.product(idx_range,idx_range))\n",
        "  points_per_box = []\n",
        "  nbox_intercepted = 0\n",
        "  for xi,yi in idxs:\n",
        "    # Uses the grid indexes to grab box boundaries\n",
        "    x0,x1 = grid[xi-1], grid[xi]\n",
        "    y0,y1 = grid[yi-1], grid[yi]\n",
        "\n",
        "    # Filter the path by returning points that fall within both the X and Y boundaries\n",
        "    points_in_box = _path[(_path[:,0] > x0) & (_path[:,0] < x1) & (_path[:,1] > y0) & (_path[:,1] < y1)]\n",
        "    if len(points_in_box) > 0:\n",
        "        # If there are points inside the box boundaries, increment the counter\n",
        "        nbox_intercepted += 1\n",
        "        points_per_box.append(len(points_in_box)) # Take note of the number of points in the box\n",
        "  return nbox_intercepted, np.mean(points_per_box)"
      ],
      "execution_count": null,
      "outputs": []
    },
    {
      "cell_type": "markdown",
      "metadata": {
        "id": "rnZEp2JXAeW5"
      },
      "source": [
        "Constraints for determining the number of boxes\n",
        "\n",
        "\n",
        "For the regression line, we want to exclude values where\n",
        "*   Number of boxes equals 1 or 4\n",
        "*   Number of boxes approaches the resolution of the data\n",
        "\n",
        "\n",
        "\n",
        "\n"
      ]
    },
    {
      "cell_type": "code",
      "metadata": {
        "id": "UvRyjkwnHim7"
      },
      "source": [
        "def grab_box_counts(_path):\n",
        "  # Initialize arrays where interception box counts and grid size are held\n",
        "  nbox_intercepted_all = []\n",
        "  box_size = []\n",
        "\n",
        "  # Initialize the grid intercepts with a 2x2 layout \n",
        "  grid_intercepts = np.linspace(0, np.max(_path), num=3)\n",
        "\n",
        "  points_per_box = 666\n",
        "  while  points_per_box > 1:\n",
        "    # Divide the grid and store the box size\n",
        "    grid_intercepts = divide_intercepts(grid_intercepts)\n",
        "    box_size.append(grid_intercepts[1] - grid_intercepts[0])\n",
        "    \n",
        "    # Grab the number of boxes intercepted and the average number of points per box\n",
        "    nbox_intercepted, points_per_box = count_box_interceptions(_path, grid_intercepts)\n",
        "    nbox_intercepted_all.append(nbox_intercepted)\n",
        "\n",
        "  return nbox_intercepted_all[:-1], box_size[:-1] # Exclude the last iteration from regression line"
      ],
      "execution_count": null,
      "outputs": []
    },
    {
      "cell_type": "code",
      "metadata": {
        "id": "VE0VhDMDjTKY"
      },
      "source": [
        "def plot_regression_line(X, y_pred, y, dimension):\n",
        "  fig, ax = plt.subplots()\n",
        "  ax.plot(X,y, label='Box Count')\n",
        "  ax.plot(X,y_pred,c='r', label='Regression Line')\n",
        "  ax.invert_xaxis()\n",
        "  \n",
        "  ax.set_xlabel('log(s)')\n",
        "  ax.set_ylabel('log(N(s))');\n",
        "  ax.set_title(f'Dimension: {np.round(dimension[0],3)}');\n",
        "  ax.legend();\n",
        "\n",
        "def calculate_fractal_dimension(_path):\n",
        "  N, magnification = grab_box_counts(_path)\n",
        "  x = [np.log(1/s) for s in magnification]\n",
        "  X = np.array(x).reshape(-1, 1)\n",
        "  y = [np.log(n) for n in N]\n",
        "  lr = LinearRegression(fit_intercept=True)\n",
        "  lr.fit(X,y)\n",
        "  y_pred = lr.predict(X)\n",
        "  dimension = lr.coef_\n",
        "\n",
        "  plot_regression_line(X, y_pred, y, dimension)\n",
        "  return dimension"
      ],
      "execution_count": null,
      "outputs": []
    },
    {
      "cell_type": "markdown",
      "source": [
        "### Test Curve Preformance "
      ],
      "metadata": {
        "id": "lpMVx7Coi3Hd"
      }
    },
    {
      "cell_type": "markdown",
      "source": [
        "#### The Koch Curve\n",
        "Theoretical dimension of the Koch curve: ~1.261\n"
      ],
      "metadata": {
        "id": "vAFxI4M9jGbe"
      }
    },
    {
      "cell_type": "code",
      "metadata": {
        "colab": {
          "base_uri": "https://localhost:8080/",
          "height": 295
        },
        "id": "VSgEpycYj6MO",
        "outputId": "b366fb8f-bcf9-4349-a5d1-f01e51b94c29"
      },
      "source": [
        "calculate_fractal_dimension(koch_curve);"
      ],
      "execution_count": null,
      "outputs": [
        {
          "output_type": "display_data",
          "data": {
            "image/png": "[encoded data removed]",
            "text/plain": [
              "<Figure size 432x288 with 1 Axes>"
            ]
          },
          "metadata": {
            "needs_background": "light"
          }
        }
      ]
    },
    {
      "cell_type": "code",
      "metadata": {
        "id": "azqDNFCff9PL",
        "colab": {
          "base_uri": "https://localhost:8080/",
          "height": 295
        },
        "outputId": "b85f2e9b-eb5b-4b13-923b-40321a9f6e1b"
      },
      "source": [
        "calculate_fractal_dimension(random_walk_smooth);"
      ],
      "execution_count": null,
      "outputs": [
        {
          "output_type": "display_data",
          "data": {
            "image/png": "[encoded data removed]",
            "text/plain": [
              "<Figure size 432x288 with 1 Axes>"
            ]
          },
          "metadata": {
            "needs_background": "light"
          }
        }
      ]
    },
    {
      "cell_type": "code",
      "metadata": {
        "colab": {
          "base_uri": "https://localhost:8080/",
          "height": 295
        },
        "id": "dJMnjH2-kLk5",
        "outputId": "148793d3-e68f-4be9-dfdf-10ddcbc0b144"
      },
      "source": [
        "calculate_fractal_dimension(random_walk_rough);"
      ],
      "execution_count": null,
      "outputs": [
        {
          "output_type": "display_data",
          "data": {
            "image/png": "[encoded data removed]",
            "text/plain": [
              "<Figure size 432x288 with 1 Axes>"
            ]
          },
          "metadata": {
            "needs_background": "light"
          }
        }
      ]
    },
    {
      "cell_type": "code",
      "source": [
        ""
      ],
      "metadata": {
        "id": "fszitwS-l4gS"
      },
      "execution_count": null,
      "outputs": []
    }
  ]
}