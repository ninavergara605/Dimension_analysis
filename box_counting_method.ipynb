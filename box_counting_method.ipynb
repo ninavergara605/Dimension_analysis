{
  "nbformat": 4,
  "nbformat_minor": 0,
  "metadata": {
    "colab": {
      "name": "box_counting_method.ipynb",
      "provenance": [],
      "collapsed_sections": [],
      "include_colab_link": true
    },
    "kernelspec": {
      "name": "python3",
      "display_name": "Python 3"
    },
    "language_info": {
      "name": "python"
    }
  },
  "cells": [
    {
      "cell_type": "markdown",
      "metadata": {
        "id": "view-in-github",
        "colab_type": "text"
      },
      "source": [
        "<a href=\"https://colab.research.google.com/github/ninavergara605/dimension_analysis/blob/master/box_counting_method.ipynb\" target=\"_parent\"><img src=\"https://colab.research.google.com/assets/colab-badge.svg\" alt=\"Open In Colab\"/></a>"
      ]
    },
    {
      "cell_type": "code",
      "metadata": {
        "id": "YIWl7ssqLFxI"
      },
      "source": [
        "import numpy as np\n",
        "import matplotlib.pyplot as plt\n",
        "import itertools\n",
        "import scipy\n",
        "import pandas as pd\n",
        "from sklearn.linear_model import LinearRegression\n",
        "%matplotlib inline"
      ],
      "execution_count": null,
      "outputs": []
    },
    {
      "cell_type": "code",
      "metadata": {
        "colab": {
          "resources": {
            "http://localhost:8080/nbextensions/google.colab/files.js": {
              "data": "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",
              "ok": true,
              "headers": [
                [
                  "content-type",
                  "application/javascript"
                ]
              ],
              "status": 200,
              "status_text": ""
            }
          },
          "base_uri": "https://localhost:8080/",
          "height": 72
        },
        "id": "TsiXp1CIjscx",
        "outputId": "b9ae89a3-240e-43a6-92a9-f4e12b921a2f"
      },
      "source": [
        "from google.colab import files\n",
        "import io\n",
        "\n",
        "uploaded = files.upload()\n",
        "nodes = pd.read_csv(io.BytesIO(uploaded['koch_curve.csv'])).values"
      ],
      "execution_count": null,
      "outputs": [
        {
          "output_type": "display_data",
          "data": {
            "text/html": [
              "\n",
              "     <input type=\"file\" id=\"files-4d9c16c6-548d-4374-ba64-16089a2f2d7b\" name=\"files[]\" multiple disabled\n",
              "        style=\"border:none\" />\n",
              "     <output id=\"result-4d9c16c6-548d-4374-ba64-16089a2f2d7b\">\n",
              "      Upload widget is only available when the cell has been executed in the\n",
              "      current browser session. Please rerun this cell to enable.\n",
              "      </output>\n",
              "      <script src=\"/nbextensions/google.colab/files.js\"></script> "
            ],
            "text/plain": [
              "<IPython.core.display.HTML object>"
            ]
          },
          "metadata": {}
        },
        {
          "output_type": "stream",
          "name": "stdout",
          "text": [
            "Saving koch_curve.csv to koch_curve (3).csv\n"
          ]
        }
      ]
    },
    {
      "cell_type": "markdown",
      "metadata": {
        "id": "rhZKy9N3r97u"
      },
      "source": [
        "### Initializing Test Data"
      ]
    },
    {
      "cell_type": "code",
      "metadata": {
        "id": "CVpwO55lkdOO"
      },
      "source": [
        "nodes_df = pd.Series(nodes.flatten()).str.split(\" \", expand=True).apply(pd.to_numeric, errors='ignore')\n",
        "path = nodes_df.values[:100]\n",
        "nodes = path"
      ],
      "execution_count": null,
      "outputs": []
    },
    {
      "cell_type": "code",
      "metadata": {
        "id": "DuvBuQAMLNM7",
        "colab": {
          "base_uri": "https://localhost:8080/"
        },
        "outputId": "d2a525ee-1548-42b4-bd41-57aac1513af8"
      },
      "source": [
        "# Initialize test points for analysis\n",
        "'''nodes = np.array([\n",
        "        (0,1)\n",
        "        ,(2,4)\n",
        "        ,(6,10)\n",
        "        ,(15,6)\n",
        "])'''\n",
        "\n",
        "# Interpolates X and Y values for a node and the following node to yeild one continuous line \n",
        "lines_x = [np.linspace(x0,x1) for (x0,x1) in zip(nodes[:-1,0], nodes[1:,0])]\n",
        "lines_y = [np.linspace(y0,y1) for (y0,y1) in zip(nodes[:-1,1], nodes[1:,1])]\n",
        "\n",
        "# Concatenates the X and Y lines and pairs them into points\n",
        "path =  np.array(list(zip(np.array(lines_x).flatten(), np.array(lines_y).flatten())))\n",
        "path[:5]"
      ],
      "execution_count": null,
      "outputs": [
        {
          "output_type": "execute_result",
          "data": {
            "text/plain": [
              "array([[0.09144947, 0.        ],\n",
              "       [0.09238263, 0.00161628],\n",
              "       [0.09331579, 0.00323255],\n",
              "       [0.09424895, 0.00484883],\n",
              "       [0.09518211, 0.00646511]])"
            ]
          },
          "metadata": {},
          "execution_count": 71
        }
      ]
    },
    {
      "cell_type": "markdown",
      "metadata": {
        "id": "ob5Gv4qS8B5x"
      },
      "source": [
        "## Implementation Walkthrough"
      ]
    },
    {
      "cell_type": "markdown",
      "metadata": {
        "id": "ZI1MJXPVr8Je"
      },
      "source": [
        "### Creating the Initial Grid"
      ]
    },
    {
      "cell_type": "code",
      "metadata": {
        "colab": {
          "base_uri": "https://localhost:8080/"
        },
        "id": "M1Y6UlaLL7Rs",
        "outputId": "cd98c0e1-ccbc-4d55-c204-1ca43a745dd4"
      },
      "source": [
        "# To determine the maximum x and y axis values of the grid, one is added to the largest x and y point value.\n",
        "grid_dim = [max(nodes[:,0])+1, max(nodes[:,1])+1]\n",
        "\n",
        "# In this example, the grid is split into 5 segments on both the x and y axis.\n",
        "nboxes = 4\n",
        "n_divides = int(np.sqrt(nboxes))\n",
        "# np.linspace is used to mark the segment intercept points for each axis of the grid\n",
        "grid_x, grid_y = np.linspace(0, grid_dim[0],num=n_divides+1), np.linspace(0, grid_dim[1],num=n_divides+1)\n",
        "print(grid_x, grid_y)"
      ],
      "execution_count": null,
      "outputs": [
        {
          "output_type": "stream",
          "name": "stdout",
          "text": [
            "[0.         1.94032922 3.88065844] [0.         1.25237689 2.50475379]\n"
          ]
        }
      ]
    },
    {
      "cell_type": "code",
      "metadata": {
        "id": "kSgax0bxQQMa"
      },
      "source": [
        "def divide_segment(segment):\n",
        "  divided = []\n",
        "  for i in range(len(segment)-1):\n",
        "    lower = segment[i]\n",
        "    upper = segment[i+1]\n",
        "    middle = lower + (upper - lower)/2\n",
        "    if lower in divided:\n",
        "      divided.extend([middle, upper])\n",
        "    else:\n",
        "      divided.extend([lower, middle, upper])\n",
        "  return divided\n",
        "  \n",
        "divided_x = divide_segment(grid_x)\n",
        "divided_y = divide_segment(grid_y)"
      ],
      "execution_count": null,
      "outputs": []
    },
    {
      "cell_type": "markdown",
      "metadata": {
        "id": "baSr5ZEdvDuG"
      },
      "source": [
        "### Visualizing the Path and Grid"
      ]
    },
    {
      "cell_type": "code",
      "metadata": {
        "colab": {
          "base_uri": "https://localhost:8080/",
          "height": 269
        },
        "id": "l56uMx3sL5Ry",
        "outputId": "bacccc5f-6157-4be9-9fb8-3f61bd050703"
      },
      "source": [
        "# Initialize the plot\n",
        "fig, (ax1,ax2) = plt.subplots(ncols=2, figsize=(8,4))\n",
        "\n",
        "def plot_path(ax, x_ticks, y_ticks):\n",
        "  # Plots each point in the path\n",
        "  ax.plot(path[:,0], path[:,1])\n",
        "  # Use the grid segments for the X and Y axis to determine the major axis ticks\n",
        "  ax.set_yticks(y_ticks)\n",
        "  ax.set_xticks(x_ticks)\n",
        "  ax.grid()\n",
        "  \n",
        "plot_path(ax1, grid_x, grid_y)\n",
        "plot_path(ax2, divided_x, divided_y)"
      ],
      "execution_count": null,
      "outputs": [
        {
          "output_type": "display_data",
          "data": {
            "image/png": "[encoded data removed]",
            "text/plain": [
              "<Figure size 576x288 with 2 Axes>"
            ]
          },
          "metadata": {
            "needs_background": "light"
          }
        }
      ]
    },
    {
      "cell_type": "markdown",
      "metadata": {
        "id": "RJQACLIxwSkX"
      },
      "source": [
        "### Detecting if a Point Lies Within a Grid Box\n",
        "\n",
        "1. Create a range to index the X and Y axis grid segments\n",
        "2. Create a cartesian product of the grid segment ranges so that every X boundary is paired with every Y boundary\n",
        "3. Grab X and Y box boundaries for each index by retrieving the corresponding grid intercepts along with the preceding intercept\n",
        "4. Determine if any points fall between these boundaries"
      ]
    },
    {
      "cell_type": "code",
      "metadata": {
        "colab": {
          "base_uri": "https://localhost:8080/"
        },
        "id": "2xiqpkoGW6ie",
        "outputId": "436d0a88-e425-4e18-c551-8ee1ac50a07c"
      },
      "source": [
        "# Create a range of indexes for the grid segments\n",
        "idx_range = list(range(1, n_divides+1))\n",
        "\n",
        "# Implements a Cartesian Product of the index range against itself\n",
        "idxs = list(itertools.product(idx_range,idx_range))\n",
        "\n",
        "nbox_intercepted = 0\n",
        "for xi,yi in idxs:\n",
        "  # Uses the grid indexes to grab box boundaries\n",
        "  x0,x1 = grid_x[xi-1], grid_x[xi]\n",
        "  y0,y1 = grid_y[yi-1], grid_y[yi]\n",
        "\n",
        "  # Filter the path by returning points that fall within both the X and Y boundaries\n",
        "  inside_box = path[(path[:,0]>x0) & (path[:,0]<x1) & (path[:,1]>y0) & (path[:,1]<y1)]\n",
        "  if len(inside_box) > 0:\n",
        "      # If there are points inside the box boundaries, increment the counter\n",
        "      nbox_intercepted += 1\n",
        "nbox_intercepted"
      ],
      "execution_count": null,
      "outputs": [
        {
          "output_type": "execute_result",
          "data": {
            "text/plain": [
              "3"
            ]
          },
          "metadata": {},
          "execution_count": 11
        }
      ]
    },
    {
      "cell_type": "markdown",
      "metadata": {
        "id": "ZVgDzqxD76z2"
      },
      "source": [
        "## Refactoring into a Function\n",
        "\n",
        "In order to calculate the fractal dimension of the path, we need vary the number of boxes that a grid contains and return the number of intercepted boxes.\n",
        "\n",
        "The function below contains the code above, and allows us to change the number of boxes per grid dynamically."
      ]
    },
    {
      "cell_type": "code",
      "metadata": {
        "id": "r4LfMk1yblgm"
      },
      "source": [
        "def count_intercepts(path, grid_x, grid_y):\n",
        "  # Create a range of indexes for the grid segments\n",
        "  idx_range = list(range(1, len(grid_x)))\n",
        "\n",
        "  # Implements a Cartesian Product of the index range against itself\n",
        "  idxs = list(itertools.product(idx_range,idx_range))\n",
        "  points_per_box = []\n",
        "  nbox_intercepted = 0\n",
        "  for xi,yi in idxs:\n",
        "    # Uses the grid indexes to grab box boundaries\n",
        "    x0,x1 = grid_x[xi-1], grid_x[xi]\n",
        "    y0,y1 = grid_y[yi-1], grid_y[yi]\n",
        "\n",
        "    # Filter the path by returning points that fall within both the X and Y boundaries\n",
        "    points_in_box = path[(path[:,0]>x0) & (path[:,0]<x1) & (path[:,1]>y0) & (path[:,1]<y1)]\n",
        "    if len(points_in_box) > 0:\n",
        "        # If there are points inside the box boundaries, increment the counter\n",
        "        nbox_intercepted += 1\n",
        "        points_per_box.append(len(points_in_box))\n",
        "  return nbox_intercepted, np.mean(points_per_box)"
      ],
      "execution_count": null,
      "outputs": []
    },
    {
      "cell_type": "markdown",
      "metadata": {
        "id": "rnZEp2JXAeW5"
      },
      "source": [
        "Constraints for determining the number of boxes\n",
        "\n",
        "\n",
        "1.   The number of boxes should be a power of 2\n",
        "2.   Minimum number of boxes should be 1\n",
        "3.   Maximum number of boxes should approach the resolution of the data\n",
        "\n"
      ]
    },
    {
      "cell_type": "code",
      "metadata": {
        "colab": {
          "base_uri": "https://localhost:8080/"
        },
        "id": "UvRyjkwnHim7",
        "outputId": "a0c4b371-92dc-4006-eeb7-1bde842ec177"
      },
      "source": [
        "def grab_box_counts(path):\n",
        "  # Initialize arrays where interception box counts and grid size are held\n",
        "  nbox_intercepted_all = []\n",
        "  nbox_grid = []\n",
        "\n",
        "  # Initialize values used in while loop with a 2x2 grid \n",
        "  grid_x = np.linspace(0, max(path[:,0])+1,num=3)\n",
        "  grid_y = np.linspace(0, max(path[:,1])+1,num=3)\n",
        "  _, points_per_box = count_intercepts(path, grid_x, grid_y)\n",
        "  \n",
        "  while  points_per_box > 1.05:\n",
        "    grid_x, grid_y = divide_segment(grid_x), divide_segment(grid_y)\n",
        "    nbox_intercepted, points_per_box = count_intercepts(path, grid_x, grid_y)\n",
        "    \n",
        "    nbox_intercepted_all.append(nbox_intercepted)\n",
        "    nbox_grid.append(grid_x[1]-grid_x[0])\n",
        "  return nbox_intercepted_all[:-1], nbox_grid[:-1]\n",
        "\n",
        "N, magnification = grab_box_counts(path)\n",
        "print(N, magnification)"
      ],
      "execution_count": null,
      "outputs": [
        {
          "output_type": "stream",
          "name": "stdout",
          "text": [
            "32.333333333333336\n",
            "16.166666666666668\n",
            "7.461538461538462\n",
            "2.6216216216216215\n",
            "1.1022727272727273\n",
            "[6, 13, 37, 88] [0.9701646090534983, 0.48508230452674916, 0.24254115226337458, 0.12127057613168729]\n"
          ]
        }
      ]
    },
    {
      "cell_type": "code",
      "metadata": {
        "id": "VE0VhDMDjTKY"
      },
      "source": [
        "x = [np.log(1/s) for s in magnification]\n",
        "y = [np.log(n) for n in N]"
      ],
      "execution_count": null,
      "outputs": []
    },
    {
      "cell_type": "code",
      "metadata": {
        "colab": {
          "base_uri": "https://localhost:8080/",
          "height": 295
        },
        "id": "VSgEpycYj6MO",
        "outputId": "240c89b7-50b4-4a54-ca57-0643975bbd94"
      },
      "source": [
        "X = np.array(x).reshape(-1, 1)\n",
        "lr = LinearRegression(fit_intercept=True)\n",
        "lr.fit(X,y)\n",
        "lr.coef_\n",
        "\n",
        "y_pred = lr.predict(X)\n",
        "\n",
        "fig, ax = plt.subplots()\n",
        "ax.plot(x,y, label='Box Counts')\n",
        "ax.invert_xaxis()\n",
        "ax.set_xlabel('log(s)')\n",
        "ax.set_ylabel('log(N(s))');\n",
        "ax.plot(X,y_pred,c='r', label='Regression Line')\n",
        "dimension = lr.coef_\n",
        "ax.set_title(f'Dimension: {dimension[0]}');\n",
        "ax.legend();"
      ],
      "execution_count": null,
      "outputs": [
        {
          "output_type": "display_data",
          "data": {
            "image/png": "[encoded data removed]",
            "text/plain": [
              "<Figure size 432x288 with 1 Axes>"
            ]
          },
          "metadata": {
            "needs_background": "light"
          }
        }
      ]
    }
  ]
}