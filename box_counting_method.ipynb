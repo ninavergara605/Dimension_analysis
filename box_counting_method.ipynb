{
  "nbformat": 4,
  "nbformat_minor": 0,
  "metadata": {
    "colab": {
      "name": "box_counting_method.ipynb",
      "provenance": [],
      "collapsed_sections": [],
      "include_colab_link": true
    },
    "kernelspec": {
      "name": "python3",
      "display_name": "Python 3"
    },
    "language_info": {
      "name": "python"
    }
  },
  "cells": [
    {
      "cell_type": "markdown",
      "metadata": {
        "id": "view-in-github",
        "colab_type": "text"
      },
      "source": [
        "<a href=\"https://colab.research.google.com/github/ninavergara605/dimension_analysis/blob/master/box_counting_method.ipynb\" target=\"_parent\"><img src=\"https://colab.research.google.com/assets/colab-badge.svg\" alt=\"Open In Colab\"/></a>"
      ]
    },
    {
      "cell_type": "code",
      "metadata": {
        "id": "YIWl7ssqLFxI",
        "colab": {
          "base_uri": "https://localhost:8080/"
        },
        "outputId": "71ffc5c7-50c0-4dc4-8dcc-7565459cd00c"
      },
      "source": [
        "import numpy as np\n",
        "import itertools\n",
        "import scipy\n",
        "import pandas as pd\n",
        "from sklearn.linear_model import LinearRegression\n",
        "\n",
        "import matplotlib.pyplot as plt\n",
        "%matplotlib inline\n",
        "\n",
        "from google.colab import drive\n",
        "drive.mount('/content/gdrive')"
      ],
      "execution_count": 2,
      "outputs": [
        {
          "output_type": "stream",
          "name": "stdout",
          "text": [
            "Mounted at /content/gdrive\n"
          ]
        }
      ]
    },
    {
      "cell_type": "markdown",
      "metadata": {
        "id": "rhZKy9N3r97u"
      },
      "source": [
        "### Initializing Test Data\n",
        "\n",
        "Imports the test curve points and reformats into nested arrays and stores them into a dictionary"
      ]
    },
    {
      "cell_type": "code",
      "metadata": {
        "id": "TsiXp1CIjscx"
      },
      "source": [
        "data = {}\n",
        "# The Koch curve has a known theoretical dimension of ~1.261\n",
        "koch_curve_url = 'https://raw.githubusercontent.com/ninavergara605/dimension_analysis/master/koch_curve.csv'\n",
        "data['koch_curve'] = pd.read_csv(koch_curve_url, nrows=160).squeeze().str.split(\" \", expand=True).apply(pd.to_numeric, errors='ignore').values\n",
        "\n",
        "# Fractal Brownian Motion imports \n",
        "data['fbm_low'] = pd.read_csv('/content/gdrive/MyDrive/dimension_analysis/FBM_ 1.2').values\n",
        "data['fbm_high'] = pd.read_csv('/content/gdrive/MyDrive/dimension_analysis/FBM_ 1.75').values"
      ],
      "execution_count": 26,
      "outputs": []
    },
    {
      "cell_type": "markdown",
      "metadata": {
        "id": "ob5Gv4qS8B5x"
      },
      "source": [
        "## Implementation Walkthrough"
      ]
    },
    {
      "cell_type": "markdown",
      "metadata": {
        "id": "ZI1MJXPVr8Je"
      },
      "source": [
        "### Creating the Initial Grid\n",
        "\n",
        " Each axis will share the same grid intercept points to ensure the boxes are square\n",
        "\n"
      ]
    },
    {
      "cell_type": "code",
      "metadata": {
        "colab": {
          "base_uri": "https://localhost:8080/"
        },
        "id": "M1Y6UlaLL7Rs",
        "outputId": "914a01f5-cab2-492e-91b8-d03d9c46f1e9"
      },
      "source": [
        "koch_curve = data['koch_curve']\n",
        "# Find the largest x or y point value to determine the maximum dimension of the grid\n",
        "max_dim = np.max(koch_curve)\n",
        "\n",
        "# In this example, the grid is split into 5 segments on both the x and y axis.\n",
        "nboxes = 4\n",
        "n_divides = int(np.sqrt(nboxes))\n",
        "\n",
        "# np.linspace is used to mark the segment intercept points for each axis of the grid\n",
        "grid_intercepts = np.linspace(0, max_dim ,num=n_divides+1)\n",
        "grid_intercepts"
      ],
      "execution_count": 27,
      "outputs": [
        {
          "output_type": "execute_result",
          "data": {
            "text/plain": [
              "array([0.       , 2.4691358, 4.9382716])"
            ]
          },
          "metadata": {},
          "execution_count": 27
        }
      ]
    },
    {
      "cell_type": "markdown",
      "source": [
        " ### Dividing the Grid\n",
        "\n",
        " For every iteration, each segment of the grid is divided in half to create new\n",
        " intercepts"
      ],
      "metadata": {
        "id": "4q2SBtwTNi5P"
      }
    },
    {
      "cell_type": "code",
      "metadata": {
        "id": "kSgax0bxQQMa",
        "colab": {
          "base_uri": "https://localhost:8080/"
        },
        "outputId": "2f639c74-e635-4b37-a9fb-3b392d984338"
      },
      "source": [
        "def divide_intercepts(intercepts):\n",
        "  divided = []\n",
        "  for i in range(len(intercepts)-1):\n",
        "    # Grabs a pair of intercept points based on index\n",
        "    lower = intercepts[i]\n",
        "    upper = intercepts[i+1]\n",
        "    # Calculate the midpoint of the two values\n",
        "    middle = lower + (upper - lower)/2\n",
        "    \n",
        "    # To avoid duplication, only add the lower value if it isn't present in the divided array  \n",
        "    if lower in divided:\n",
        "      divided.extend([middle, upper])\n",
        "    else:\n",
        "      divided.extend([lower, middle, upper])\n",
        "  return divided\n",
        "  \n",
        "divided_intercepts = divide_intercepts(grid_intercepts)\n",
        "divided_intercepts"
      ],
      "execution_count": 28,
      "outputs": [
        {
          "output_type": "execute_result",
          "data": {
            "text/plain": [
              "[0.0,\n",
              " 1.2345679012345687,\n",
              " 2.4691358024691374,\n",
              " 3.703703703703706,\n",
              " 4.938271604938275]"
            ]
          },
          "metadata": {},
          "execution_count": 28
        }
      ]
    },
    {
      "cell_type": "markdown",
      "metadata": {
        "id": "baSr5ZEdvDuG"
      },
      "source": [
        "### Visualizing the Path and Grid"
      ]
    },
    {
      "cell_type": "code",
      "metadata": {
        "colab": {
          "base_uri": "https://localhost:8080/",
          "height": 268
        },
        "id": "l56uMx3sL5Ry",
        "outputId": "0b9002a8-26df-46d1-baf5-2289942cc8e3"
      },
      "source": [
        "# Initialize the plot\n",
        "fig, (ax1,ax2) = plt.subplots(ncols=2, figsize=(8,4))\n",
        "\n",
        "def plot_path(ax, data, ticks):\n",
        "  # Plots each point in the path\n",
        "  ax.plot(data[:,0], data[:,1])\n",
        "  # Use the grid segments for the X and Y axis to determine the major axis ticks\n",
        "  ax.set_yticks(ticks)\n",
        "  ax.set_xticks(ticks)\n",
        "  ax.grid()\n",
        "  \n",
        "plot_path(ax1, koch_curve, grid_intercepts)\n",
        "plot_path(ax2, koch_curve, divided_intercepts)"
      ],
      "execution_count": 29,
      "outputs": [
        {
          "output_type": "display_data",
          "data": {
            "image/png": "[encoded data removed]",
            "text/plain": [
              "<Figure size 576x288 with 2 Axes>"
            ]
          },
          "metadata": {
            "needs_background": "light"
          }
        }
      ]
    },
    {
      "cell_type": "markdown",
      "metadata": {
        "id": "RJQACLIxwSkX"
      },
      "source": [
        "### Detecting if a Point Lies Within a Grid Box\n",
        "\n",
        "1. Create a range to index the grid segments\n",
        "2. Create a cartesian product of the grid segment ranges to determine box locations\n",
        "3. Grab X and Y box boundaries for each index by retrieving the corresponding grid intercepts along with the preceding intercept\n",
        "4. Determine if any points fall between these boundaries. If so, increment the counter"
      ]
    },
    {
      "cell_type": "code",
      "metadata": {
        "colab": {
          "base_uri": "https://localhost:8080/"
        },
        "id": "2xiqpkoGW6ie",
        "outputId": "ac4d3245-6c6e-4411-bcbb-3bb890e9055a"
      },
      "source": [
        "# Create a range of indexes for the grid segments\n",
        "idx_range = list(range(1, n_divides+1))\n",
        "\n",
        "# Implements a Cartesian Product of the index range against itself\n",
        "idxs = list(itertools.product(idx_range,idx_range))\n",
        "\n",
        "nbox_intercepted = 0\n",
        "for xi,yi in idxs:\n",
        "  # Uses the grid indexes to grab box boundaries\n",
        "  x0,x1 = grid_intercepts[xi-1], grid_intercepts[xi]\n",
        "  y0,y1 = grid_intercepts[yi-1], grid_intercepts[yi]\n",
        "\n",
        "  # Filter the path by returning points that fall within both the X and Y boundaries\n",
        "  inside_box = koch_curve[(koch_curve[:,0] > x0) & (koch_curve[:,0]  <x1) & (koch_curve[:,1] > y0) & (koch_curve[:,1] < y1)]\n",
        "  if len(inside_box) > 0:\n",
        "      # If there are points inside the box boundaries, increment the counter\n",
        "      nbox_intercepted += 1\n",
        "nbox_intercepted"
      ],
      "execution_count": 30,
      "outputs": [
        {
          "output_type": "execute_result",
          "data": {
            "text/plain": [
              "2"
            ]
          },
          "metadata": {},
          "execution_count": 30
        }
      ]
    },
    {
      "cell_type": "markdown",
      "metadata": {
        "id": "ZVgDzqxD76z2"
      },
      "source": [
        "## Full Implementation Algorithms\n",
        "\n",
        "In order to calculate the fractal dimension of the path, we need vary the number of boxes that a grid contains and return the number of intercepted boxes.\n",
        "\n",
        "The function also returns the mean of the number of points found within each box, which will be used to flag when the number of boxes approach the resolution of the data"
      ]
    },
    {
      "cell_type": "code",
      "metadata": {
        "id": "r4LfMk1yblgm"
      },
      "source": [
        "def count_box_interceptions(_path, grid):\n",
        "  # Create a range of indexes for the grid segments\n",
        "  idx_range = list(range(1, len(grid)))\n",
        "\n",
        "  # Implements a Cartesian Product of the index range against itself\n",
        "  idxs = list(itertools.product(idx_range,idx_range))\n",
        "  points_per_box = []\n",
        "  nbox_intercepted = 0\n",
        "  for xi,yi in idxs:\n",
        "    # Uses the grid indexes to grab box boundaries\n",
        "    x0,x1 = grid[xi-1], grid[xi]\n",
        "    y0,y1 = grid[yi-1], grid[yi]\n",
        "\n",
        "    # Filter the path by returning points that fall within both the X and Y boundaries\n",
        "    points_in_box = _path[(_path[:,0] > x0) & (_path[:,0] < x1) & (_path[:,1] > y0) & (_path[:,1] < y1)]\n",
        "    if len(points_in_box) > 0:\n",
        "        # If there are points inside the box boundaries, increment the counter\n",
        "        nbox_intercepted += 1\n",
        "        points_per_box.append(len(points_in_box)) # Take note of the number of points in the box\n",
        "  return nbox_intercepted, np.mean(points_per_box)"
      ],
      "execution_count": 31,
      "outputs": []
    },
    {
      "cell_type": "markdown",
      "metadata": {
        "id": "rnZEp2JXAeW5"
      },
      "source": [
        "Constraints for determining the number of boxes\n",
        "\n",
        "\n",
        "For the regression line, we want to exclude values where\n",
        "*   Number of boxes equals 1 or 4\n",
        "*   Number of boxes approaches the resolution of the data\n",
        "\n",
        "\n",
        "\n",
        "\n"
      ]
    },
    {
      "cell_type": "code",
      "metadata": {
        "id": "UvRyjkwnHim7"
      },
      "source": [
        "def grab_box_counts(_path):\n",
        "  # Initialize arrays where interception box counts and grid size are held\n",
        "  nbox_intercepted_all = []\n",
        "  box_size = []\n",
        "\n",
        "  # Initialize the grid intercepts with a 2x2 layout \n",
        "  grid_intercepts = np.linspace(0, np.max(_path), num=3)\n",
        "\n",
        "  points_per_box = 666\n",
        "  while  points_per_box > 1:\n",
        "    # Divide the grid and store the box size\n",
        "    grid_intercepts = divide_intercepts(grid_intercepts)\n",
        "    box_size.append(grid_intercepts[1] - grid_intercepts[0])\n",
        "    \n",
        "    # Grab the number of boxes intercepted and the average number of points per box\n",
        "    nbox_intercepted, points_per_box = count_box_interceptions(_path, grid_intercepts)\n",
        "    nbox_intercepted_all.append(nbox_intercepted)\n",
        "\n",
        "  return nbox_intercepted_all[:-1], box_size[:-1] # Exclude the last iteration from regression line"
      ],
      "execution_count": 32,
      "outputs": []
    },
    {
      "cell_type": "markdown",
      "source": [
        "## Result Functions"
      ],
      "metadata": {
        "id": "h9VytcUImGt_"
      }
    },
    {
      "cell_type": "code",
      "metadata": {
        "id": "VE0VhDMDjTKY"
      },
      "source": [
        "def calculate_base_points(_path):\n",
        "  # Use the number of intercepted and box sizes to create a base line for regression\n",
        "  N, magnification = grab_box_counts(_path) \n",
        "  x = [np.log(1/s) for s in magnification] # x values are log(1/box_size)\n",
        "  X = np.array(x).reshape(-1, 1) # Reformat into nested array\n",
        "  y = [np.log(n) for n in N] # y values are log(n_boxes_intercepted)\n",
        "  return X,y"
      ],
      "execution_count": 33,
      "outputs": []
    },
    {
      "cell_type": "code",
      "metadata": {
        "id": "hIpOyEIOxIJn"
      },
      "source": [
        "def plot_regression_line(ax, X, y,tag=None):\n",
        "    # Initialize and fit a linear regression model\n",
        "    lr = LinearRegression(fit_intercept=True)\n",
        "    lr.fit(X,y)\n",
        "\n",
        "    # Get the regression line y-values and its slope\n",
        "    y_pred = lr.predict(X) \n",
        "    slope = lr.coef_ \n",
        "\n",
        "    # Plots the original line and regression line\n",
        "    ax.plot(X, y, label='Box Count')\n",
        "    ax.plot(X, y_pred, c='r', label='Regression Line')\n",
        "\n",
        "    # Create and set the subplot title\n",
        "    dim_str = 'Dimension: ' + str(np.round(slope[0],3)) # Make dimension substring of title\n",
        "    if tag:\n",
        "      # If the data has a tag, prettyfie it and add dimension results\n",
        "      title = ' '.join([*tag.title().split('_'), dim_str])\n",
        "    else:\n",
        "      # Otherwise, the title is the dimension substring\n",
        "      title = dim_str\n",
        "\n",
        "    ax.set_title(title)\n",
        "    ax.set_xlabel('log(1/s)')\n",
        "    ax.set_ylabel('log(N(s))');\n",
        "\n",
        "    ax.legend()\n",
        "    return slope # Return the slope for fun"
      ],
      "execution_count": 34,
      "outputs": []
    },
    {
      "cell_type": "markdown",
      "source": [
        "## Test Curve Preformance "
      ],
      "metadata": {
        "id": "lpMVx7Coi3Hd"
      }
    },
    {
      "cell_type": "code",
      "source": [
        "fig, axes = plt.subplots(ncols=3, figsize=(12,5))\n",
        "for ax, (tag, points) in zip(axes, data.items()):\n",
        "  X, y = calculate_base_points(points)\n",
        "  plot_regression_line(ax, X, y, tag=tag)\n",
        "fig.suptitle('Box Counting Method', fontsize=15);"
      ],
      "metadata": {
        "colab": {
          "base_uri": "https://localhost:8080/",
          "height": 370
        },
        "id": "RQKeY3zViAxO",
        "outputId": "0b543269-0ea7-409c-e363-81ef8853f398"
      },
      "execution_count": 36,
      "outputs": [
        {
          "output_type": "display_data",
          "data": {
            "image/png": "[encoded data removed]",
            "text/plain": [
              "<Figure size 864x360 with 3 Axes>"
            ]
          },
          "metadata": {
            "needs_background": "light"
          }
        }
      ]
    }
  ]
}